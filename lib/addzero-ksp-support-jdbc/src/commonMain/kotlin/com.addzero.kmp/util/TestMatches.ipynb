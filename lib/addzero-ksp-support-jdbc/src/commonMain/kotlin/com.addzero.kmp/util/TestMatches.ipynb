{
 "cells": [
  {
   "metadata": {
    "ExecuteTime": {
     "end_time": "2025-07-22T05:34:10.164564Z",
     "start_time": "2025-07-22T05:34:09.951737Z"
    }
   },
   "cell_type": "code",
   "source": [
    "import com.addzero.kmp.util.JdbcMetadataExtractor\n",
    "\n",
    "/**\n",
    " * 判断是否应该包含某个表（支持通配符 *）\n",
    " * @param tableName 当前表名\n",
    " * @param config 数据源配置\n",
    " * @return 如果表名符合包含/排除规则则返回 true\n",
    " */\n",
    "fun shouldIncludeTable(tableName: String, config: JdbcMetadataExtractor.JdbcConfig): Boolean {\n",
    "    // 1. 如果指定了包含列表，则检查是否匹配任一包含规则\n",
    "    config.includeTables?.let { includeRules ->\n",
    "        if (includeRules.isNotEmpty()) {\n",
    "            return includeRules.any { rule -> matchesWildcard(tableName, rule) }\n",
    "        }\n",
    "    }\n",
    "\n",
    "    // 2. 如果指定了排除列表，则检查是否匹配任一排除规则\n",
    "    config.excludeTables?.let { excludeRules ->\n",
    "        if (excludeRules.isNotEmpty()) {\n",
    "            return !excludeRules.any { rule -> matchesWildcard(tableName, rule) }\n",
    "        }\n",
    "    }\n",
    "\n",
    "    // 3. 默认包含所有表\n",
    "    return true\n",
    "}\n",
    "\n",
    "/**\n",
    " * 通配符匹配（支持 *）\n",
    " * @param input 待匹配的字符串（如表名）\n",
    " * @param pattern 通配符规则（如 \"user_*\", \"*_mapping\"）\n",
    " */\n",
    " fun matchesWildcard(input: String, pattern: String): Boolean {\n",
    "    val regex = pattern\n",
    "        .replace(\".\", \"\\\\.\")  // 转义点号\n",
    "        .replace(\"*\", \".*\")   // 将 * 转换为正则的 .*\n",
    "        .let { \"^$it$\" }      // 完全匹配\n",
    "\n",
    "    return Regex(regex, RegexOption.IGNORE_CASE).matches(input)\n",
    "}\n",
    "val config = JdbcMetadataExtractor.JdbcConfig(\n",
    "    excludeTables = listOf(\"flyway_schema_history\", \"vector_store\", \"*_mapping\")\n",
    ")\n",
    "println(shouldIncludeTable(\"user\", config))          // true（不在排除列表中）\n",
    "println(shouldIncludeTable(\"biz_mapping\", config))   // false（匹配 *_mapping）\n",
    "println(shouldIncludeTable(\"sys_role_mapping\", config)) // false（匹配 *_mapping）\n",
    "println(shouldIncludeTable(\"vector_store\", config))  // false（精确匹配排除项）\n"
   ],
   "outputs": [
    {
     "ename": "org.jetbrains.kotlinx.jupyter.exceptions.ReplCompilerException",
     "evalue": "at Cell In[1], line 1, column 20: Unresolved reference: kmp\nat Cell In[1], line 9, column 51: Unresolved reference: JdbcMetadataExtractor\nat Cell In[1], line 11, column 33: Cannot infer a type for this parameter. Please specify it explicitly.\nat Cell In[1], line 13, column 13: 'return' is not allowed here\nat Cell In[1], line 13, column 39: Cannot infer a type for this parameter. Please specify it explicitly.\nat Cell In[1], line 18, column 33: Cannot infer a type for this parameter. Please specify it explicitly.\nat Cell In[1], line 20, column 13: 'return' is not allowed here\nat Cell In[1], line 20, column 40: Cannot infer a type for this parameter. Please specify it explicitly.\nat Cell In[1], line 41, column 14: Unresolved reference: JdbcMetadataExtractor",
     "output_type": "error",
     "traceback": [
      "org.jetbrains.kotlinx.jupyter.exceptions.ReplCompilerException: at Cell In[1], line 1, column 20: Unresolved reference: kmp",
      "at Cell In[1], line 9, column 51: Unresolved reference: JdbcMetadataExtractor",
      "at Cell In[1], line 11, column 33: Cannot infer a type for this parameter. Please specify it explicitly.",
      "at Cell In[1], line 13, column 13: 'return' is not allowed here",
      "at Cell In[1], line 13, column 39: Cannot infer a type for this parameter. Please specify it explicitly.",
      "at Cell In[1], line 18, column 33: Cannot infer a type for this parameter. Please specify it explicitly.",
      "at Cell In[1], line 20, column 13: 'return' is not allowed here",
      "at Cell In[1], line 20, column 40: Cannot infer a type for this parameter. Please specify it explicitly.",
      "at Cell In[1], line 41, column 14: Unresolved reference: JdbcMetadataExtractor",
      "\tat org.jetbrains.kotlinx.jupyter.repl.impl.JupyterCompilerImpl.compileSync(JupyterCompilerImpl.kt:208)",
      "\tat org.jetbrains.kotlinx.jupyter.repl.impl.InternalEvaluatorImpl.eval(InternalEvaluatorImpl.kt:126)",
      "\tat org.jetbrains.kotlinx.jupyter.repl.impl.CellExecutorImpl$execute$1$result$1.invoke(CellExecutorImpl.kt:80)",
      "\tat org.jetbrains.kotlinx.jupyter.repl.impl.CellExecutorImpl$execute$1$result$1.invoke(CellExecutorImpl.kt:78)",
      "\tat org.jetbrains.kotlinx.jupyter.repl.impl.ReplForJupyterImpl.withHost(ReplForJupyterImpl.kt:791)",
      "\tat org.jetbrains.kotlinx.jupyter.repl.impl.CellExecutorImpl.execute-L4Nmkdk(CellExecutorImpl.kt:78)",
      "\tat org.jetbrains.kotlinx.jupyter.repl.execution.CellExecutor$DefaultImpls.execute-L4Nmkdk$default(CellExecutor.kt:13)",
      "\tat org.jetbrains.kotlinx.jupyter.repl.impl.ReplForJupyterImpl.evaluateUserCode-wNURfNM(ReplForJupyterImpl.kt:613)",
      "\tat org.jetbrains.kotlinx.jupyter.repl.impl.ReplForJupyterImpl.evalExImpl(ReplForJupyterImpl.kt:471)",
      "\tat org.jetbrains.kotlinx.jupyter.repl.impl.ReplForJupyterImpl.access$evalExImpl(ReplForJupyterImpl.kt:143)",
      "\tat org.jetbrains.kotlinx.jupyter.repl.impl.ReplForJupyterImpl$evalEx$1.invoke(ReplForJupyterImpl.kt:464)",
      "\tat org.jetbrains.kotlinx.jupyter.repl.impl.ReplForJupyterImpl$evalEx$1.invoke(ReplForJupyterImpl.kt:463)",
      "\tat org.jetbrains.kotlinx.jupyter.repl.impl.ReplForJupyterImpl.withEvalContext(ReplForJupyterImpl.kt:444)",
      "\tat org.jetbrains.kotlinx.jupyter.repl.impl.ReplForJupyterImpl.evalEx(ReplForJupyterImpl.kt:463)",
      "\tat org.jetbrains.kotlinx.jupyter.messaging.IdeCompatibleMessageRequestProcessor$processExecuteRequest$1$response$1$1.invoke(IdeCompatibleMessageRequestProcessor.kt:159)",
      "\tat org.jetbrains.kotlinx.jupyter.messaging.IdeCompatibleMessageRequestProcessor$processExecuteRequest$1$response$1$1.invoke(IdeCompatibleMessageRequestProcessor.kt:158)",
      "\tat org.jetbrains.kotlinx.jupyter.streams.BlockingSubstitutionEngine.withDataSubstitution(SubstitutionEngine.kt:70)",
      "\tat org.jetbrains.kotlinx.jupyter.streams.StreamSubstitutionManager.withSubstitutedStreams(StreamSubstitutionManager.kt:118)",
      "\tat org.jetbrains.kotlinx.jupyter.messaging.IdeCompatibleMessageRequestProcessor.withForkedIn(IdeCompatibleMessageRequestProcessor.kt:335)",
      "\tat org.jetbrains.kotlinx.jupyter.messaging.IdeCompatibleMessageRequestProcessor.access$withForkedIn(IdeCompatibleMessageRequestProcessor.kt:54)",
      "\tat org.jetbrains.kotlinx.jupyter.messaging.IdeCompatibleMessageRequestProcessor$evalWithIO$1$1.invoke(IdeCompatibleMessageRequestProcessor.kt:349)",
      "\tat org.jetbrains.kotlinx.jupyter.streams.BlockingSubstitutionEngine.withDataSubstitution(SubstitutionEngine.kt:70)",
      "\tat org.jetbrains.kotlinx.jupyter.streams.StreamSubstitutionManager.withSubstitutedStreams(StreamSubstitutionManager.kt:118)",
      "\tat org.jetbrains.kotlinx.jupyter.messaging.IdeCompatibleMessageRequestProcessor.withForkedErr(IdeCompatibleMessageRequestProcessor.kt:324)",
      "\tat org.jetbrains.kotlinx.jupyter.messaging.IdeCompatibleMessageRequestProcessor.access$withForkedErr(IdeCompatibleMessageRequestProcessor.kt:54)",
      "\tat org.jetbrains.kotlinx.jupyter.messaging.IdeCompatibleMessageRequestProcessor$evalWithIO$1.invoke(IdeCompatibleMessageRequestProcessor.kt:348)",
      "\tat org.jetbrains.kotlinx.jupyter.streams.BlockingSubstitutionEngine.withDataSubstitution(SubstitutionEngine.kt:70)",
      "\tat org.jetbrains.kotlinx.jupyter.streams.StreamSubstitutionManager.withSubstitutedStreams(StreamSubstitutionManager.kt:118)",
      "\tat org.jetbrains.kotlinx.jupyter.messaging.IdeCompatibleMessageRequestProcessor.withForkedOut(IdeCompatibleMessageRequestProcessor.kt:316)",
      "\tat org.jetbrains.kotlinx.jupyter.messaging.IdeCompatibleMessageRequestProcessor.evalWithIO(IdeCompatibleMessageRequestProcessor.kt:347)",
      "\tat org.jetbrains.kotlinx.jupyter.messaging.IdeCompatibleMessageRequestProcessor$processExecuteRequest$1$response$1.invoke(IdeCompatibleMessageRequestProcessor.kt:158)",
      "\tat org.jetbrains.kotlinx.jupyter.messaging.IdeCompatibleMessageRequestProcessor$processExecuteRequest$1$response$1.invoke(IdeCompatibleMessageRequestProcessor.kt:157)",
      "\tat org.jetbrains.kotlinx.jupyter.execution.JupyterExecutorImpl$Task.execute(JupyterExecutorImpl.kt:41)",
      "\tat org.jetbrains.kotlinx.jupyter.execution.JupyterExecutorImpl$executorThread$1.invoke(JupyterExecutorImpl.kt:83)",
      "\tat org.jetbrains.kotlinx.jupyter.execution.JupyterExecutorImpl$executorThread$1.invoke(JupyterExecutorImpl.kt:80)",
      "\tat kotlin.concurrent.ThreadsKt$thread$thread$1.run(Thread.kt:30)",
      ""
     ]
    }
   ],
   "execution_count": 1
  },
  {
   "metadata": {},
   "cell_type": "code",
   "outputs": [],
   "execution_count": null,
   "source": ""
  }
 ],
 "metadata": {
  "kernelspec": {
   "display_name": "Kotlin",
   "language": "kotlin",
   "name": "kotlin"
  },
  "language_info": {
   "name": "kotlin",
   "version": "1.9.23",
   "mimetype": "text/x-kotlin",
   "file_extension": ".kt",
   "pygments_lexer": "kotlin",
   "codemirror_mode": "text/x-kotlin",
   "nbconvert_exporter": ""
  },
  "ktnbPluginMetadata": {
   "projectLibraries": true
  }
 },
 "nbformat": 4,
 "nbformat_minor": 0
}
